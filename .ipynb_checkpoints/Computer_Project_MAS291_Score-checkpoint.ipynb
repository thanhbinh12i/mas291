{
 "cells": [
  {
   "cell_type": "markdown",
   "metadata": {
    "id": "l8L3s5w8310J"
   },
   "source": [
    "Importing the Dependencies"
   ]
  },
  {
   "cell_type": "code",
   "execution_count": 34,
   "metadata": {
    "id": "PT0YDs1w3my2"
   },
   "outputs": [],
   "source": [
    "import numpy as np\n",
    "import pandas as pd\n",
    "import matplotlib.pyplot as plt\n",
    "import sklearn\n",
    "from sklearn import linear_model\n",
    "from sklearn.linear_model import LinearRegression\n",
    "from sklearn.model_selection import train_test_split\n",
    "from sklearn.ensemble import RandomForestClassifier\n",
    "import seaborn as sns"
   ]
  },
  {
   "cell_type": "code",
   "execution_count": 2,
   "metadata": {
    "colab": {
     "base_uri": "https://localhost:8080/",
     "height": 206
    },
    "id": "SQx6u8S04hCU",
    "outputId": "ec526619-9d9e-427b-b175-ee783b1d3273"
   },
   "outputs": [
    {
     "data": {
      "text/html": [
       "<div>\n",
       "<style scoped>\n",
       "    .dataframe tbody tr th:only-of-type {\n",
       "        vertical-align: middle;\n",
       "    }\n",
       "\n",
       "    .dataframe tbody tr th {\n",
       "        vertical-align: top;\n",
       "    }\n",
       "\n",
       "    .dataframe thead th {\n",
       "        text-align: right;\n",
       "    }\n",
       "</style>\n",
       "<table border=\"1\" class=\"dataframe\">\n",
       "  <thead>\n",
       "    <tr style=\"text-align: right;\">\n",
       "      <th></th>\n",
       "      <th>No.</th>\n",
       "      <th>Computer_Project</th>\n",
       "      <th>Assignment</th>\n",
       "      <th>Quiz</th>\n",
       "      <th>Final</th>\n",
       "    </tr>\n",
       "  </thead>\n",
       "  <tbody>\n",
       "    <tr>\n",
       "      <th>0</th>\n",
       "      <td>1</td>\n",
       "      <td>2.5</td>\n",
       "      <td>8.4</td>\n",
       "      <td>4.8</td>\n",
       "      <td>5.2</td>\n",
       "    </tr>\n",
       "    <tr>\n",
       "      <th>1</th>\n",
       "      <td>2</td>\n",
       "      <td>10.0</td>\n",
       "      <td>9.2</td>\n",
       "      <td>7.3</td>\n",
       "      <td>5.8</td>\n",
       "    </tr>\n",
       "    <tr>\n",
       "      <th>2</th>\n",
       "      <td>3</td>\n",
       "      <td>10.0</td>\n",
       "      <td>7.7</td>\n",
       "      <td>5.2</td>\n",
       "      <td>6.2</td>\n",
       "    </tr>\n",
       "    <tr>\n",
       "      <th>3</th>\n",
       "      <td>4</td>\n",
       "      <td>6.5</td>\n",
       "      <td>7.4</td>\n",
       "      <td>4.1</td>\n",
       "      <td>4.2</td>\n",
       "    </tr>\n",
       "    <tr>\n",
       "      <th>4</th>\n",
       "      <td>5</td>\n",
       "      <td>1.0</td>\n",
       "      <td>6.4</td>\n",
       "      <td>5.6</td>\n",
       "      <td>2.8</td>\n",
       "    </tr>\n",
       "  </tbody>\n",
       "</table>\n",
       "</div>"
      ],
      "text/plain": [
       "   No.  Computer_Project  Assignment  Quiz  Final\n",
       "0    1               2.5         8.4   4.8    5.2\n",
       "1    2              10.0         9.2   7.3    5.8\n",
       "2    3              10.0         7.7   5.2    6.2\n",
       "3    4               6.5         7.4   4.1    4.2\n",
       "4    5               1.0         6.4   5.6    2.8"
      ]
     },
     "execution_count": 2,
     "metadata": {},
     "output_type": "execute_result"
    }
   ],
   "source": [
    "fileScore = pd.read_csv('FA23.csv')\n",
    "fileScore.head()"
   ]
  },
  {
   "cell_type": "code",
   "execution_count": 3,
   "metadata": {
    "colab": {
     "base_uri": "https://localhost:8080/"
    },
    "id": "PP238xZY4tUU",
    "outputId": "c7b1f560-3d1b-4667-8303-4a1f56357db0"
   },
   "outputs": [
    {
     "name": "stdout",
     "output_type": "stream",
     "text": [
      "<class 'pandas.core.frame.DataFrame'>\n",
      "RangeIndex: 299 entries, 0 to 298\n",
      "Data columns (total 5 columns):\n",
      " #   Column            Non-Null Count  Dtype  \n",
      "---  ------            --------------  -----  \n",
      " 0   No.               299 non-null    int64  \n",
      " 1   Computer_Project  299 non-null    float64\n",
      " 2   Assignment        299 non-null    float64\n",
      " 3   Quiz              299 non-null    float64\n",
      " 4   Final             299 non-null    float64\n",
      "dtypes: float64(4), int64(1)\n",
      "memory usage: 11.8 KB\n"
     ]
    }
   ],
   "source": [
    "fileScore.info()"
   ]
  },
  {
   "cell_type": "markdown",
   "metadata": {
    "id": "2PzyegYu67w8"
   },
   "source": [
    "Draw a scatter plot to find the points that gain most between quiz and final_exam"
   ]
  },
  {
   "cell_type": "code",
   "execution_count": 4,
   "metadata": {
    "colab": {
     "base_uri": "https://localhost:8080/"
    },
    "id": "uL3li9bT6Bp6",
    "outputId": "b11339ff-d939-44ca-8994-c66d66ff7e9f"
   },
   "outputs": [
    {
     "name": "stdout",
     "output_type": "stream",
     "text": [
      "0      4.8\n",
      "1      7.3\n",
      "2      5.2\n",
      "3      4.1\n",
      "4      5.6\n",
      "      ... \n",
      "294    7.0\n",
      "295    7.3\n",
      "296    5.3\n",
      "297    6.0\n",
      "298    6.0\n",
      "Name: Quiz, Length: 299, dtype: float64\n",
      "0      5.2\n",
      "1      5.8\n",
      "2      6.2\n",
      "3      4.2\n",
      "4      2.8\n",
      "      ... \n",
      "294    4.6\n",
      "295    4.6\n",
      "296    2.8\n",
      "297    6.6\n",
      "298    4.8\n",
      "Name: Final, Length: 299, dtype: float64\n"
     ]
    }
   ],
   "source": [
    "x = fileScore['Quiz']\n",
    "y = fileScore['Final']\n",
    "print(x)\n",
    "print(y)"
   ]
  },
  {
   "cell_type": "code",
   "execution_count": 5,
   "metadata": {
    "colab": {
     "base_uri": "https://localhost:8080/",
     "height": 452
    },
    "id": "GlMo8qx65AKo",
    "outputId": "539d71de-6f55-4796-da38-9587e4c939ba"
   },
   "outputs": [
    {
     "data": {
      "image/png": "[encoded data removed]",
      "text/plain": [
       "<Figure size 640x480 with 1 Axes>"
      ]
     },
     "metadata": {},
     "output_type": "display_data"
    }
   ],
   "source": [
    "#draw a scatter plot in the relation of (quiz, final_exam)\n",
    "plt.scatter(x, y)\n",
    "plt.xlabel('quiz')\n",
    "plt.ylabel('final exam')\n",
    "plt.show()"
   ]
  },
  {
   "cell_type": "code",
   "execution_count": 6,
   "metadata": {
    "colab": {
     "base_uri": "https://localhost:8080/",
     "height": 452
    },
    "id": "73u6Ue4O7WNH",
    "outputId": "95464591-d888-4719-bcc7-97f3e98ac55b"
   },
   "outputs": [
    {
     "data": {
      "image/png": "[encoded data removed]",
      "text/plain": [
       "<Figure size 640x480 with 1 Axes>"
      ]
     },
     "metadata": {},
     "output_type": "display_data"
    }
   ],
   "source": [
    "x1 = fileScore['Assignment']\n",
    "y1 = fileScore['Final']\n",
    "plt.scatter(x1, y1)\n",
    "plt.xlabel('Assignment')\n",
    "plt.ylabel('Final')\n",
    "plt.show()"
   ]
  },
  {
   "cell_type": "code",
   "execution_count": 7,
   "metadata": {
    "colab": {
     "base_uri": "https://localhost:8080/",
     "height": 449
    },
    "id": "cMEaTwHM72tJ",
    "outputId": "3a693e8f-b146-463a-d2bc-076b17f4c480"
   },
   "outputs": [
    {
     "data": {
      "image/png": "[encoded data removed]",
      "text/plain": [
       "<Figure size 640x480 with 1 Axes>"
      ]
     },
     "metadata": {},
     "output_type": "display_data"
    }
   ],
   "source": [
    "x2 = fileScore['Quiz']\n",
    "y2 = fileScore['Assignment']\n",
    "plt.scatter(x2, y2)\n",
    "plt.xlabel('Quiz')\n",
    "plt.ylabel('Assignment')\n",
    "plt.show()"
   ]
  },
  {
   "cell_type": "code",
   "execution_count": 8,
   "metadata": {
    "colab": {
     "base_uri": "https://localhost:8080/"
    },
    "id": "gMwagMvq8rCy",
    "outputId": "b3734037-78f9-4c9b-8df8-0ad2de9abc5d"
   },
   "outputs": [
    {
     "data": {
      "text/plain": [
       "Quiz\n",
       "6.7     31\n",
       "7.0     22\n",
       "6.3     20\n",
       "6.0     20\n",
       "7.7     16\n",
       "7.3     13\n",
       "0.0     12\n",
       "5.7     12\n",
       "8.0     11\n",
       "8.7      8\n",
       "8.3      8\n",
       "5.3      7\n",
       "5.0      6\n",
       "6.2      6\n",
       "6.8      5\n",
       "9.0      5\n",
       "4.7      5\n",
       "6.9      5\n",
       "7.2      5\n",
       "9.3      5\n",
       "5.8      4\n",
       "7.6      4\n",
       "8.2      4\n",
       "7.8      4\n",
       "7.5      4\n",
       "6.4      4\n",
       "4.0      3\n",
       "3.7      3\n",
       "6.6      3\n",
       "4.3      3\n",
       "3.9      3\n",
       "5.2      3\n",
       "6.1      3\n",
       "4.8      2\n",
       "5.4      2\n",
       "8.1      2\n",
       "7.1      2\n",
       "8.5      2\n",
       "7.4      2\n",
       "5.5      2\n",
       "4.4      2\n",
       "7.9      2\n",
       "5.6      2\n",
       "1.2      1\n",
       "10.0     1\n",
       "8.6      1\n",
       "5.9      1\n",
       "4.5      1\n",
       "6.5      1\n",
       "3.8      1\n",
       "9.5      1\n",
       "4.9      1\n",
       "9.2      1\n",
       "4.1      1\n",
       "2.7      1\n",
       "Name: count, dtype: int64"
      ]
     },
     "execution_count": 8,
     "metadata": {},
     "output_type": "execute_result"
    }
   ],
   "source": [
    "fileScore.Quiz.value_counts()"
   ]
  },
  {
   "cell_type": "code",
   "execution_count": 9,
   "metadata": {
    "colab": {
     "base_uri": "https://localhost:8080/"
    },
    "id": "Hju3hKQI812a",
    "outputId": "422d6894-afd1-4745-b208-7460c7cf078c"
   },
   "outputs": [
    {
     "data": {
      "text/plain": [
       "Assignment\n",
       "10.0    108\n",
       "9.5      19\n",
       "9.0      12\n",
       "0.0      10\n",
       "8.4      10\n",
       "8.6       7\n",
       "9.8       7\n",
       "7.4       6\n",
       "8.5       6\n",
       "7.5       6\n",
       "8.7       6\n",
       "7.9       6\n",
       "9.3       6\n",
       "9.7       5\n",
       "7.7       5\n",
       "8.0       5\n",
       "8.1       4\n",
       "7.0       4\n",
       "8.3       3\n",
       "9.1       3\n",
       "6.4       3\n",
       "6.1       3\n",
       "7.3       3\n",
       "5.3       3\n",
       "9.2       3\n",
       "7.8       3\n",
       "6.8       3\n",
       "5.5       3\n",
       "8.2       3\n",
       "6.5       2\n",
       "6.9       2\n",
       "7.1       2\n",
       "6.6       2\n",
       "5.8       2\n",
       "1.0       2\n",
       "4.6       2\n",
       "8.8       2\n",
       "7.6       2\n",
       "6.7       2\n",
       "7.2       2\n",
       "5.7       2\n",
       "9.4       1\n",
       "6.0       1\n",
       "2.0       1\n",
       "3.6       1\n",
       "3.0       1\n",
       "4.9       1\n",
       "9.6       1\n",
       "6.2       1\n",
       "5.9       1\n",
       "4.7       1\n",
       "Name: count, dtype: int64"
      ]
     },
     "execution_count": 9,
     "metadata": {},
     "output_type": "execute_result"
    }
   ],
   "source": [
    "fileScore.Assignment.value_counts()"
   ]
  },
  {
   "cell_type": "code",
   "execution_count": 10,
   "metadata": {
    "colab": {
     "base_uri": "https://localhost:8080/"
    },
    "id": "TqTljXts8-H8",
    "outputId": "1cdf5d9c-f9dc-43d3-9897-0c779835bf57"
   },
   "outputs": [
    {
     "data": {
      "text/plain": [
       "No.                 0\n",
       "Computer_Project    0\n",
       "Assignment          0\n",
       "Quiz                0\n",
       "Final               0\n",
       "dtype: int64"
      ]
     },
     "execution_count": 10,
     "metadata": {},
     "output_type": "execute_result"
    }
   ],
   "source": [
    "fileScore.isnull().sum()"
   ]
  },
  {
   "cell_type": "code",
   "execution_count": 11,
   "metadata": {
    "colab": {
     "base_uri": "https://localhost:8080/",
     "height": 469
    },
    "id": "EyHHMV5J9RMB",
    "outputId": "c5783b51-5a9e-4f88-9d40-41d5af695653"
   },
   "outputs": [
    {
     "data": {
      "text/plain": [
       "<Axes: xlabel='Quiz', ylabel='Final'>"
      ]
     },
     "execution_count": 11,
     "metadata": {},
     "output_type": "execute_result"
    },
    {
     "data": {
      "image/png": "[encoded data removed]",
      "text/plain": [
       "<Figure size 640x480 with 1 Axes>"
      ]
     },
     "metadata": {},
     "output_type": "display_data"
    }
   ],
   "source": [
    "sns.boxplot(x='Quiz',y='Final',data=fileScore)"
   ]
  },
  {
   "cell_type": "code",
   "execution_count": 12,
   "metadata": {
    "colab": {
     "base_uri": "https://localhost:8080/",
     "height": 657
    },
    "id": "pGjRYXbl-bOk",
    "outputId": "d273d119-f306-4042-ee14-b1e9edee4f8d"
   },
   "outputs": [
    {
     "name": "stderr",
     "output_type": "stream",
     "text": [
      "C:\\Users\\User\\AppData\\Local\\Temp\\ipykernel_17312\\1696581693.py:1: UserWarning: \n",
      "\n",
      "`distplot` is a deprecated function and will be removed in seaborn v0.14.0.\n",
      "\n",
      "Please adapt your code to use either `displot` (a figure-level function with\n",
      "similar flexibility) or `histplot` (an axes-level function for histograms).\n",
      "\n",
      "For a guide to updating your code to use the new functions, please see\n",
      "https://gist.github.com/mwaskom/de44147ed2974457ad6372750bbe5751\n",
      "\n",
      "  sns.distplot(fileScore.Final, bins=10)\n"
     ]
    },
    {
     "data": {
      "text/plain": [
       "<Axes: xlabel='Final', ylabel='Density'>"
      ]
     },
     "execution_count": 12,
     "metadata": {},
     "output_type": "execute_result"
    },
    {
     "data": {
      "image/png": "[encoded data removed]",
      "text/plain": [
       "<Figure size 640x480 with 1 Axes>"
      ]
     },
     "metadata": {},
     "output_type": "display_data"
    }
   ],
   "source": [
    "sns.distplot(fileScore.Final, bins=10)"
   ]
  },
  {
   "cell_type": "markdown",
   "metadata": {
    "id": "wlhYIhF1A58H"
   },
   "source": [
    "Find the mean, varience and standard deviation of quiz, assignment and final exam of 30 random students."
   ]
  },
  {
   "cell_type": "code",
   "execution_count": 13,
   "metadata": {
    "colab": {
     "base_uri": "https://localhost:8080/"
    },
    "id": "10pjhbK8_3By",
    "outputId": "12c9d11d-d8c6-4810-cbb0-79dc69d9b88c"
   },
   "outputs": [
    {
     "name": "stdout",
     "output_type": "stream",
     "text": [
      "[5.7, 5.9, 7.5, 6.8, 5.3, 8.4, 2.0, 1.0, 5.3, 10.0, 8.0, 6.7, 7.0, 8.1, 6.7, 8.0, 5.7, 8.7, 9.4, 5.8, 7.1, 7.7, 7.9, 7.0, 5.8, 6.6, 1.0, 9.2, 7.1, 9.1]\n",
      "[8.1, 5.9, 6.7, 6.1, 4.0, 8.2, 3.8, 5.6, 8.5, 6.3, 8.1, 4.4, 5.9, 9.3, 6.7, 5.4, 4.9, 5.8, 8.7, 4.5, 2.7, 8.2, 4.4, 8.6, 4.8, 3.8, 5.9, 7.8, 7.3, 8.1]\n",
      "[4.4, 3.0, 3.0, 7.8, 2.0, 9.6, 9.6, 4.0, 5.2, 7.6, 5.2, 9.2, 3.4, 7.4, 2.0, 0.0, 4.8, 2.6, 6.8, 8.6, 8.4, 9.6, 8.8, 2.4, 0.0, 3.8, 4.0, 5.4, 2.4, 9.2]\n"
     ]
    }
   ],
   "source": [
    "import random\n",
    "#Assignments\n",
    "assignment_counts = fileScore['Assignment'].value_counts()\n",
    "assignment_grade = [random.choice(assignment_counts.index) for _ in range(30)]\n",
    "print(assignment_grade)\n",
    "#Quiz\n",
    "quiz_counts = fileScore['Quiz'].value_counts()\n",
    "quiz_grade = [random.choice(quiz_counts.index) for _ in range(30)]\n",
    "print(quiz_grade)\n",
    "#Final exam\n",
    "final_exam_counts = fileScore['Final'].value_counts()\n",
    "final_exam_grade = [random.choice(final_exam_counts.index) for _ in range(30)]\n",
    "print(final_exam_grade)"
   ]
  },
  {
   "cell_type": "code",
   "execution_count": 14,
   "metadata": {
    "id": "_IdqbAmgP4D_"
   },
   "outputs": [],
   "source": [
    "import statistics"
   ]
  },
  {
   "cell_type": "code",
   "execution_count": 15,
   "metadata": {
    "id": "6Th5Sye-QSif"
   },
   "outputs": [],
   "source": [
    "#mean\n",
    "quiz_mean = statistics.mean(quiz_grade)\n",
    "assignment_mean = statistics.mean(assignment_grade)\n",
    "final_exam_mean = statistics.mean(final_exam_grade)"
   ]
  },
  {
   "cell_type": "code",
   "execution_count": 16,
   "metadata": {
    "id": "VyG7693DQx91"
   },
   "outputs": [],
   "source": [
    "#variance\n",
    "quiz_variance = statistics.variance(quiz_grade)\n",
    "assignment_variance = statistics.variance(assignment_grade)\n",
    "final_exam_variance = statistics.variance(final_exam_grade)"
   ]
  },
  {
   "cell_type": "code",
   "execution_count": 17,
   "metadata": {
    "id": "SZGUKuZzRHcn"
   },
   "outputs": [],
   "source": [
    "#standard deviation\n",
    "quiz_standard = statistics.stdev(quiz_grade)\n",
    "assignment_standard = statistics.stdev(assignment_grade)\n",
    "final_exam_standard = statistics.stdev(final_exam_grade)"
   ]
  },
  {
   "cell_type": "code",
   "execution_count": 18,
   "metadata": {
    "colab": {
     "base_uri": "https://localhost:8080/"
    },
    "id": "sNZifTbkRXwt",
    "outputId": "99cc9504-552f-4116-a2c4-137142fcd4f4"
   },
   "outputs": [
    {
     "name": "stdout",
     "output_type": "stream",
     "text": [
      "Sample mean:\n",
      "Quiz grade: 6.283333333333333\n",
      "Assignment grade: 6.683333333333334\n",
      "Final exam grade: 5.34\n",
      "\n",
      "Sample variance:\n",
      "Quiz grade: 3.2028160919540225\n",
      "Assignment grade: 4.8710919540229884\n",
      "Final exam grade: 8.957655172413792\n",
      "\n",
      "Sample standard deviation:\n",
      "Quiz grade: 1.7896413305335857\n",
      "Assignment grade: 2.2070550410044123\n",
      "Final exam grade: 2.992934207832473\n"
     ]
    }
   ],
   "source": [
    "# Print the results\n",
    "print(\"Sample mean:\")\n",
    "print(\"Quiz grade:\", quiz_mean)\n",
    "print(\"Assignment grade:\", assignment_mean)\n",
    "print(\"Final exam grade:\", final_exam_mean)\n",
    "\n",
    "print(\"\\nSample variance:\")\n",
    "print(\"Quiz grade:\", quiz_variance)\n",
    "print(\"Assignment grade:\", assignment_variance)\n",
    "print(\"Final exam grade:\", final_exam_variance)\n",
    "\n",
    "print(\"\\nSample standard deviation:\")\n",
    "print(\"Quiz grade:\", quiz_standard)\n",
    "print(\"Assignment grade:\", assignment_standard)\n",
    "print(\"Final exam grade:\", final_exam_standard)"
   ]
  },
  {
   "cell_type": "code",
   "execution_count": 19,
   "metadata": {
    "colab": {
     "base_uri": "https://localhost:8080/"
    },
    "id": "Px2fLrkvDO00",
    "outputId": "9e0c3afe-9a40-48e6-fdec-206f4c55215b"
   },
   "outputs": [
    {
     "name": "stdout",
     "output_type": "stream",
     "text": [
      "Proportion of students with final exam grades more than 7: 7.69%\n",
      "Expected number of students with final exam grades more than 7 in a sample of 30: 2.31\n",
      "Actual number of students with final exam grades more than 7 in your sample: 1\n"
     ]
    }
   ],
   "source": [
    "import pandas as pd\n",
    "import random\n",
    "\n",
    "# Calculate the proportion of students with final exam grades more than 7 in the whole dataset\n",
    "proportion_above_7 = (fileScore['Final'] > 7).mean()\n",
    "\n",
    "print(f\"Proportion of students with final exam grades more than 7: {proportion_above_7:.2%}\")\n",
    "\n",
    "# Set your seed for reproducibility (replace 'your_seed' with your actual ID)\n",
    "random.seed(10)\n",
    "\n",
    "# Simulate selecting 30 students randomly\n",
    "sample_size = 30\n",
    "random_sample = random.sample(fileScore['Final'].tolist(), sample_size)\n",
    "\n",
    "# Calculate the expected number of students with final exam grades more than 7\n",
    "expected_number_above_7 = proportion_above_7 * sample_size\n",
    "\n",
    "print(f\"Expected number of students with final exam grades more than 7 in a sample of 30: {expected_number_above_7:.2f}\")\n",
    "\n",
    "# Calculate the actual number of students with final exam grades more than 7 in your sample\n",
    "actual_number_above_7 = sum(grade > 7 for grade in random_sample)\n",
    "\n",
    "print(f\"Actual number of students with final exam grades more than 7 in your sample: {actual_number_above_7}\")\n"
   ]
  },
  {
   "cell_type": "markdown",
   "metadata": {
    "id": "E7L8zIDWM9oB"
   },
   "source": [
    "Find the smallest sample size of the dataset"
   ]
  },
  {
   "cell_type": "code",
   "execution_count": 20,
   "metadata": {
    "colab": {
     "base_uri": "https://localhost:8080/"
    },
    "id": "N_7gnH7GE38R",
    "outputId": "b236b2c3-d2ab-431b-bfe0-f4174e00d133"
   },
   "outputs": [
    {
     "name": "stdout",
     "output_type": "stream",
     "text": [
      "23.897033409961686\n"
     ]
    }
   ],
   "source": [
    "Z = 1.96\n",
    "E = 1.2\n",
    "n = (Z**2 * (final_exam_standard)**2) / E**2\n",
    "print(n)"
   ]
  },
  {
   "cell_type": "markdown",
   "metadata": {
    "id": "GOlBQ1d9Ophd"
   },
   "source": [
    "Train the Model using Linear Regression model\n",
    "`final_exam_grade = a + b*quiz_grade`"
   ]
  },
  {
   "cell_type": "code",
   "execution_count": 21,
   "metadata": {
    "colab": {
     "base_uri": "https://localhost:8080/"
    },
    "id": "-gG5K_SURELw",
    "outputId": "85e2f7e2-f306-4dce-e7e1-5f6aa4fdd32e"
   },
   "outputs": [
    {
     "data": {
      "text/plain": [
       "Final               1.000000\n",
       "Quiz                0.527050\n",
       "Assignment          0.501811\n",
       "Computer_Project    0.483916\n",
       "No.                 0.199699\n",
       "Name: Final, dtype: float64"
      ]
     },
     "execution_count": 21,
     "metadata": {},
     "output_type": "execute_result"
    }
   ],
   "source": [
    "#Find the correlation of each attribute.\n",
    "corr = fileScore.corr()\n",
    "corr.Final.sort_values(ascending=False)"
   ]
  },
  {
   "cell_type": "code",
   "execution_count": 22,
   "metadata": {
    "colab": {
     "base_uri": "https://localhost:8080/"
    },
    "id": "oXykMzZ6On1w",
    "outputId": "a9b9aea0-5c2e-4a8f-874e-e25ccd74a6a0"
   },
   "outputs": [
    {
     "name": "stdout",
     "output_type": "stream",
     "text": [
      "     No.  Quiz\n",
      "0      1   4.8\n",
      "1      2   7.3\n",
      "2      3   5.2\n",
      "3      4   4.1\n",
      "4      5   5.6\n",
      "..   ...   ...\n",
      "294  295   7.0\n",
      "295  296   7.3\n",
      "296  297   5.3\n",
      "297  298   6.0\n",
      "298  299   6.0\n",
      "\n",
      "[299 rows x 2 columns]\n",
      "0      5.2\n",
      "1      5.8\n",
      "2      6.2\n",
      "3      4.2\n",
      "4      2.8\n",
      "      ... \n",
      "294    4.6\n",
      "295    4.6\n",
      "296    2.8\n",
      "297    6.6\n",
      "298    4.8\n",
      "Name: Final, Length: 299, dtype: float64\n"
     ]
    }
   ],
   "source": [
    "x = fileScore.drop(['Final','Assignment','Computer_Project'],axis=1)\n",
    "y = fileScore.Final\n",
    "print(x)\n",
    "print(y)"
   ]
  },
  {
   "cell_type": "code",
   "execution_count": 23,
   "metadata": {
    "colab": {
     "base_uri": "https://localhost:8080/"
    },
    "id": "PkMYc0XVPaa6",
    "outputId": "dd4ae370-7f25-4e61-f34f-ec3216eae191"
   },
   "outputs": [
    {
     "name": "stdout",
     "output_type": "stream",
     "text": [
      "Xtrain: (269, 2)\n",
      "Ytrain: (269,)\n",
      "Xtest: (30, 2)\n",
      "Ytest: (30,)\n"
     ]
    }
   ],
   "source": [
    "Xtrain, Xtest, Ytrain, Ytest = train_test_split(x, y,test_size=0.1,random_state=10)\n",
    "print('Xtrain:',Xtrain.shape)\n",
    "print('Ytrain:',Ytrain.shape)\n",
    "print('Xtest:',Xtest.shape)\n",
    "print('Ytest:',Ytest.shape)"
   ]
  },
  {
   "cell_type": "code",
   "execution_count": 37,
   "metadata": {
    "id": "E3RgrMeUP9P-"
   },
   "outputs": [],
   "source": [
    "model_train = LinearRegression()"
   ]
  },
  {
   "cell_type": "code",
   "execution_count": 38,
   "metadata": {
    "colab": {
     "base_uri": "https://localhost:8080/",
     "height": 74
    },
    "id": "FNur1lU3QDQ1",
    "outputId": "a96a9f4d-621f-4e45-ec02-9e2adabf138c"
   },
   "outputs": [
    {
     "data": {
      "text/html": [
       "<style>#sk-container-id-2 {color: black;}#sk-container-id-2 pre{padding: 0;}#sk-container-id-2 div.sk-toggleable {background-color: white;}#sk-container-id-2 label.sk-toggleable__label {cursor: pointer;display: block;width: 100%;margin-bottom: 0;padding: 0.3em;box-sizing: border-box;text-align: center;}#sk-container-id-2 label.sk-toggleable__label-arrow:before {content: \"▸\";float: left;margin-right: 0.25em;color: #696969;}#sk-container-id-2 label.sk-toggleable__label-arrow:hover:before {color: black;}#sk-container-id-2 div.sk-estimator:hover label.sk-toggleable__label-arrow:before {color: black;}#sk-container-id-2 div.sk-toggleable__content {max-height: 0;max-width: 0;overflow: hidden;text-align: left;background-color: #f0f8ff;}#sk-container-id-2 div.sk-toggleable__content pre {margin: 0.2em;color: black;border-radius: 0.25em;background-color: #f0f8ff;}#sk-container-id-2 input.sk-toggleable__control:checked~div.sk-toggleable__content {max-height: 200px;max-width: 100%;overflow: auto;}#sk-container-id-2 input.sk-toggleable__control:checked~label.sk-toggleable__label-arrow:before {content: \"▾\";}#sk-container-id-2 div.sk-estimator input.sk-toggleable__control:checked~label.sk-toggleable__label {background-color: #d4ebff;}#sk-container-id-2 div.sk-label input.sk-toggleable__control:checked~label.sk-toggleable__label {background-color: #d4ebff;}#sk-container-id-2 input.sk-hidden--visually {border: 0;clip: rect(1px 1px 1px 1px);clip: rect(1px, 1px, 1px, 1px);height: 1px;margin: -1px;overflow: hidden;padding: 0;position: absolute;width: 1px;}#sk-container-id-2 div.sk-estimator {font-family: monospace;background-color: #f0f8ff;border: 1px dotted black;border-radius: 0.25em;box-sizing: border-box;margin-bottom: 0.5em;}#sk-container-id-2 div.sk-estimator:hover {background-color: #d4ebff;}#sk-container-id-2 div.sk-parallel-item::after {content: \"\";width: 100%;border-bottom: 1px solid gray;flex-grow: 1;}#sk-container-id-2 div.sk-label:hover label.sk-toggleable__label {background-color: #d4ebff;}#sk-container-id-2 div.sk-serial::before {content: \"\";position: absolute;border-left: 1px solid gray;box-sizing: border-box;top: 0;bottom: 0;left: 50%;z-index: 0;}#sk-container-id-2 div.sk-serial {display: flex;flex-direction: column;align-items: center;background-color: white;padding-right: 0.2em;padding-left: 0.2em;position: relative;}#sk-container-id-2 div.sk-item {position: relative;z-index: 1;}#sk-container-id-2 div.sk-parallel {display: flex;align-items: stretch;justify-content: center;background-color: white;position: relative;}#sk-container-id-2 div.sk-item::before, #sk-container-id-2 div.sk-parallel-item::before {content: \"\";position: absolute;border-left: 1px solid gray;box-sizing: border-box;top: 0;bottom: 0;left: 50%;z-index: -1;}#sk-container-id-2 div.sk-parallel-item {display: flex;flex-direction: column;z-index: 1;position: relative;background-color: white;}#sk-container-id-2 div.sk-parallel-item:first-child::after {align-self: flex-end;width: 50%;}#sk-container-id-2 div.sk-parallel-item:last-child::after {align-self: flex-start;width: 50%;}#sk-container-id-2 div.sk-parallel-item:only-child::after {width: 0;}#sk-container-id-2 div.sk-dashed-wrapped {border: 1px dashed gray;margin: 0 0.4em 0.5em 0.4em;box-sizing: border-box;padding-bottom: 0.4em;background-color: white;}#sk-container-id-2 div.sk-label label {font-family: monospace;font-weight: bold;display: inline-block;line-height: 1.2em;}#sk-container-id-2 div.sk-label-container {text-align: center;}#sk-container-id-2 div.sk-container {/* jupyter's `normalize.less` sets `[hidden] { display: none; }` but bootstrap.min.css set `[hidden] { display: none !important; }` so we also need the `!important` here to be able to override the default hidden behavior on the sphinx rendered scikit-learn.org. See: https://github.com/scikit-learn/scikit-learn/issues/21755 */display: inline-block !important;position: relative;}#sk-container-id-2 div.sk-text-repr-fallback {display: none;}</style><div id=\"sk-container-id-2\" class=\"sk-top-container\"><div class=\"sk-text-repr-fallback\"><pre>LinearRegression()</pre><b>In a Jupyter environment, please rerun this cell to show the HTML representation or trust the notebook. <br />On GitHub, the HTML representation is unable to render, please try loading this page with nbviewer.org.</b></div><div class=\"sk-container\" hidden><div class=\"sk-item\"><div class=\"sk-estimator sk-toggleable\"><input class=\"sk-toggleable__control sk-hidden--visually\" id=\"sk-estimator-id-2\" type=\"checkbox\" checked><label for=\"sk-estimator-id-2\" class=\"sk-toggleable__label sk-toggleable__label-arrow\">LinearRegression</label><div class=\"sk-toggleable__content\"><pre>LinearRegression()</pre></div></div></div></div></div>"
      ],
      "text/plain": [
       "LinearRegression()"
      ]
     },
     "execution_count": 38,
     "metadata": {},
     "output_type": "execute_result"
    }
   ],
   "source": [
    "model_train.fit(Xtrain, Ytrain)"
   ]
  },
  {
   "cell_type": "code",
   "execution_count": 39,
   "metadata": {
    "colab": {
     "base_uri": "https://localhost:8080/"
    },
    "id": "NMHuHIfvSY38",
    "outputId": "7bc7c743-62cf-4616-bf8e-728ea16d0401"
   },
   "outputs": [
    {
     "name": "stdout",
     "output_type": "stream",
     "text": [
      "[2.38354114 0.08957352 4.47257346 4.31278585 6.49202296 5.25653089\n",
      " 5.69014481 3.7014636  4.81817324 5.84062616 4.72889906 5.17419111\n",
      " 4.8412577  4.34541539 6.90357364 3.3378525  2.61645287 3.2060413\n",
      " 4.32386276 4.93281315 4.39158432 4.57655646 5.64592773 5.3711708\n",
      " 4.7165621  3.82853106 4.56827142 6.03811646 4.41685945 5.60180126]\n"
     ]
    }
   ],
   "source": [
    "y_pred = model_train.predict(Xtest)\n",
    "print(y_pred)"
   ]
  },
  {
   "cell_type": "code",
   "execution_count": 28,
   "metadata": {
    "colab": {
     "base_uri": "https://localhost:8080/"
    },
    "id": "re9TacTpk40H",
    "outputId": "90656975-3b29-4a47-cdd4-1e88a99d56eb"
   },
   "outputs": [
    {
     "name": "stdout",
     "output_type": "stream",
     "text": [
      "Coefficient:  [0.00414252 0.63068421]\n",
      "Intercept:  -0.17969025542228945\n"
     ]
    }
   ],
   "source": [
    "print('Coefficient: ',model_train.coef_)\n",
    "print('Intercept: ',model_train.intercept_)"
   ]
  },
  {
   "cell_type": "markdown",
   "metadata": {
    "id": "DoCUKzlsTXJl"
   },
   "source": [
    "Model Evaluation"
   ]
  },
  {
   "cell_type": "code",
   "execution_count": 29,
   "metadata": {
    "colab": {
     "base_uri": "https://localhost:8080/"
    },
    "id": "OvL2A8kyTWkc",
    "outputId": "acd65b28-ff4e-45fa-b616-24d36cfff873"
   },
   "outputs": [
    {
     "name": "stdout",
     "output_type": "stream",
     "text": [
      "4.846075932535334\n"
     ]
    }
   ],
   "source": [
    "#mean squared error\n",
    "from sklearn import metrics\n",
    "mse = metrics.mean_squared_error(Ytest, y_pred)\n",
    "print(mse)"
   ]
  },
  {
   "cell_type": "code",
   "execution_count": 30,
   "metadata": {
    "colab": {
     "base_uri": "https://localhost:8080/"
    },
    "id": "vVvynqbSctG6",
    "outputId": "abc38886-5b24-4421-de67-b13dfb5bcb93"
   },
   "outputs": [
    {
     "name": "stdout",
     "output_type": "stream",
     "text": [
      "2.2013804606508467\n"
     ]
    }
   ],
   "source": [
    "#root mean squared error:\n",
    "rmse = np.sqrt(metrics.mean_squared_error(Ytest, y_pred))\n",
    "print(rmse)"
   ]
  },
  {
   "cell_type": "code",
   "execution_count": 31,
   "metadata": {
    "colab": {
     "base_uri": "https://localhost:8080/"
    },
    "id": "qhMwUkDsnBpO",
    "outputId": "2b751243-06e3-49a5-bb7d-a168f663b579"
   },
   "outputs": [
    {
     "name": "stdout",
     "output_type": "stream",
     "text": [
      "R squared error:  0.35524911016249694\n"
     ]
    }
   ],
   "source": [
    "training_data_prediction = model_train.predict(Xtrain)\n",
    "error_score = metrics.r2_score(Ytrain, training_data_prediction)\n",
    "print(\"R squared error: \",error_score)"
   ]
  }
 ],
 "metadata": {
  "colab": {
   "provenance": []
  },
  "kernelspec": {
   "display_name": "Python 3 (ipykernel)",
   "language": "python",
   "name": "python3"
  },
  "language_info": {
   "codemirror_mode": {
    "name": "ipython",
    "version": 3
   },
   "file_extension": ".py",
   "mimetype": "text/x-python",
   "name": "python",
   "nbconvert_exporter": "python",
   "pygments_lexer": "ipython3",
   "version": "3.11.5"
  }
 },
 "nbformat": 4,
 "nbformat_minor": 1
}
